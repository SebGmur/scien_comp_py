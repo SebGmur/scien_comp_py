{
 "cells": [
  {
   "cell_type": "code",
   "execution_count": 1,
   "id": "voluntary-reggae",
   "metadata": {},
   "outputs": [],
   "source": [
    "class Rectangle:\n",
    "    \n",
    "    # Initialise object\n",
    "    def __init__(self, width, height):\n",
    "        self.width = width\n",
    "        self.height = height\n",
    "        \n",
    "    # This will be shown when object is accessed via print()    \n",
    "    def __str__(self):\n",
    "        to_print = \"Rectangle(width=\" + str(self.width) + \", height=\" + str(self.height) + \")\"\n",
    "        return to_print\n",
    "    \n",
    "    # This will be shown when object is executed in command line\n",
    "    def __repr__(self):\n",
    "        to_display = \"Rectangle(width=\" + str(self.width) + \", height=\" + str(self.height) + \")\"\n",
    "        return to_display\n",
    "\n",
    "    \n",
    "    \n",
    "    \n",
    "    def set_width(self, new_width):\n",
    "        self.width = new_width\n",
    "    \n",
    "    \n",
    "    def set_height(self, new_height):\n",
    "        self.height = new_height\n",
    "    \n",
    "    \n",
    "    def get_area(self):\n",
    "        area = self.width * self.height\n",
    "        return area\n",
    "    \n",
    "    def get_perimeter(self):\n",
    "        perimeter = 2 * self.width + 2 * self.height\n",
    "        return perimeter\n",
    "    \n",
    "    \n",
    "    def get_diagonal(self):\n",
    "        diagonal = (self.width ** 2 + self.height ** 2) ** .5\n",
    "        return diagonal\n",
    "    \n",
    "    \n",
    "    def get_picture(self):\n",
    "        picture = \"\"\n",
    "        if self.width > 50 or self.height > 50:\n",
    "            picture = \"Too big for picture.\"\n",
    "        else:\n",
    "            for no_ln in range(int(self.height)):\n",
    "                picture += \"*\" * self.width + \"\\n\"\n",
    "        \n",
    "        return picture\n",
    "    \n",
    "    \n",
    "    def get_amount_inside(self, new_obj):\n",
    "        \n",
    "        num_width = int(self.width / new_obj.width)\n",
    "        num_height = int(self.height / new_obj.height)\n",
    "        \n",
    "        num = num_width * num_height\n",
    "        \n",
    "        return num\n",
    "\n",
    "    \n",
    "\n",
    "class Square(Rectangle):\n",
    "    \n",
    "    def __init__(self, length):\n",
    "        self.width = length\n",
    "        self.height = length\n",
    "        \n",
    "\n",
    "    # This will be shown when object is accessed via print()    \n",
    "    def __str__(self):\n",
    "        to_print = \"Square(side=\" + str(self.width) + \")\"\n",
    "        return to_print\n",
    "    \n",
    "    # This will be shown when object is executed in command line\n",
    "    def __repr__(self):\n",
    "        to_display = \"Square(side=\" + str(self.width) + \")\"\n",
    "        return to_display\n",
    "    \n",
    "    def set_side(self, new_length):\n",
    "        self.width = new_length\n",
    "        self.height = new_length\n",
    "        \n",
    "\n",
    "    def set_width(self, new_length):\n",
    "        self.width = new_length\n",
    "        self.height = new_length\n",
    "    \n",
    "    \n",
    "    def set_height(self, new_length):\n",
    "        self.width = new_length\n",
    "        self.height = new_length\n",
    "        "
   ]
  },
  {
   "cell_type": "code",
   "execution_count": 2,
   "id": "inappropriate-commerce",
   "metadata": {},
   "outputs": [],
   "source": [
    "rect = Rectangle(10, 15)\n",
    "sq = Square(2)"
   ]
  },
  {
   "cell_type": "code",
   "execution_count": 3,
   "id": "published-quest",
   "metadata": {},
   "outputs": [
    {
     "name": "stdout",
     "output_type": "stream",
     "text": [
      "35\n"
     ]
    }
   ],
   "source": [
    "print(rect.get_amount_inside(sq))"
   ]
  },
  {
   "cell_type": "code",
   "execution_count": null,
   "id": "specialized-duration",
   "metadata": {},
   "outputs": [],
   "source": []
  }
 ],
 "metadata": {
  "kernelspec": {
   "display_name": "Python 3",
   "language": "python",
   "name": "python3"
  },
  "language_info": {
   "codemirror_mode": {
    "name": "ipython",
    "version": 3
   },
   "file_extension": ".py",
   "mimetype": "text/x-python",
   "name": "python",
   "nbconvert_exporter": "python",
   "pygments_lexer": "ipython3",
   "version": "3.6.12"
  }
 },
 "nbformat": 4,
 "nbformat_minor": 5
}
