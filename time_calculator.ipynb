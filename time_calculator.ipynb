{
 "cells": [
  {
   "cell_type": "code",
   "execution_count": 1,
   "id": "returning-memorial",
   "metadata": {},
   "outputs": [],
   "source": [
    "def proc_start(start):\n",
    "    \n",
    "    x = start.split(':')\n",
    "    x[1] = x[1].split()\n",
    "    x.extend(x[1])\n",
    "    del x[1]\n",
    "    \n",
    "    if x[2] == \"PM\":\n",
    "        hr = 12+int(x[0])\n",
    "    else:\n",
    "        hr = int(x[0])\n",
    "    \n",
    "    base = [str(hr), x[1]]\n",
    "    return base\n",
    "\n",
    "\n",
    "# Test Function\n",
    "# proc_start(\"3:00 PM\")"
   ]
  },
  {
   "cell_type": "code",
   "execution_count": 2,
   "id": "basic-rabbit",
   "metadata": {},
   "outputs": [],
   "source": [
    "def add_to_base(base, duration):\n",
    "    duration = duration.split(':')\n",
    "    \n",
    "    # Process Minutes\n",
    "    mt = int(base[1])+int(duration[1])\n",
    "    mt_60 = int(mt/60)\n",
    "    mt_remain = mt%60    \n",
    "\n",
    "    \n",
    "    # Process Hours\n",
    "    hr = int(base[0])+int(duration[0]) + mt_60\n",
    "    days = int(hr/24)\n",
    "    hours = hr%24\n",
    "    \n",
    "    added_time = [days, hours, mt_remain]   \n",
    "    \n",
    "#     print(\"Days from hours and minutes\",added_time[0], \"   Hours left:\", added_time[1] , \"   Minutes:\", added_time[2])\n",
    "    \n",
    " \n",
    "    return added_time\n",
    "\n",
    "# Test Function\n",
    "# add_to_base(['15', '40'], \"246:30\")"
   ]
  },
  {
   "cell_type": "code",
   "execution_count": 3,
   "id": "offshore-ability",
   "metadata": {},
   "outputs": [
    {
     "data": {
      "text/plain": [
       "'6:10 PM'"
      ]
     },
     "execution_count": 3,
     "metadata": {},
     "output_type": "execute_result"
    }
   ],
   "source": [
    "def print_time(added_time, w_day = None):\n",
    "    \n",
    "    # Check length of minutes. Need to have 2 digits\n",
    "    if added_time[2] < 10:\n",
    "        minutes = \"0\" + str(added_time[2])\n",
    "    else:\n",
    "        minutes = str(added_time[2])\n",
    "    \n",
    "    \n",
    "    # AM or PM\n",
    "    am_pm = None\n",
    "    hr_am_pm = None\n",
    "    \n",
    "    \n",
    "    if added_time[1] < 12:\n",
    "        am_pm = \"AM\"\n",
    "        hr_am_pm = added_time[1]\n",
    "    else:\n",
    "        am_pm = \"PM\"\n",
    "        hr_am_pm = added_time[1] - 12\n",
    "    \n",
    "    # Make sure that \"hr_am_pm\" is not zero and convert to string\n",
    "    if hr_am_pm == 0:\n",
    "        hr_am_pm = str(12)\n",
    "    else:\n",
    "        hr_am_pm = str(hr_am_pm)\n",
    "        \n",
    "        \n",
    "        \n",
    "        \n",
    "    # Today, the next day, or n-days\n",
    "    n_days = None\n",
    "    if added_time[0] == 0:\n",
    "        n_days = \"\"\n",
    "    elif added_time[0] == 1:\n",
    "        n_days = \" (next day)\"\n",
    "    else:\n",
    "        n_days = \" (\" + str(added_time[0]) + \" days later)\"\n",
    "      \n",
    "    \n",
    "    # Check if week day is required\n",
    "    if w_day != None:\n",
    "        wk_days = (\"Monday\",\"Tuesday\",\"Wednesday\",\"Thursday\",\"Friday\",\"Saturday\",\"Sunday\")\n",
    "        wk_d = wk_days.index(w_day.lower().capitalize()) + added_time[0]\n",
    "        wk_d_no = wk_d%7\n",
    "        \n",
    "        # Assemble final message\n",
    "        hr_final = hr_am_pm + \":\" + minutes + ' ' + am_pm +', ' + wk_days[wk_d_no] + n_days\n",
    "        \n",
    "    else:\n",
    "        # Assemble final message\n",
    "        hr_final = hr_am_pm + \":\" + minutes + ' ' + am_pm + n_days\n",
    "    \n",
    "    return hr_final\n",
    "\n",
    "# Test Function\n",
    "#           D   H   M\n",
    "print_time([0, 18, 10])"
   ]
  },
  {
   "cell_type": "code",
   "execution_count": 4,
   "id": "vital-impact",
   "metadata": {},
   "outputs": [],
   "source": [
    "def add_time(start, duration, w_day = None):\n",
    "    base = 0\n",
    "    \n",
    "    base = proc_start(start)\n",
    "    \n",
    "    added_time = add_to_base(base, duration)\n",
    "    \n",
    "    new_time = print_time(added_time, w_day)\n",
    "    \n",
    "    return new_time"
   ]
  },
  {
   "cell_type": "code",
   "execution_count": 12,
   "id": "hundred-fiber",
   "metadata": {},
   "outputs": [
    {
     "data": {
      "text/plain": [
       "'7:42 AM (9 days later)'"
      ]
     },
     "execution_count": 12,
     "metadata": {},
     "output_type": "execute_result"
    }
   ],
   "source": [
    "add_time(\"6:30 PM\", \"205:12\")\n",
    "# Returns: 6:10 PM"
   ]
  },
  {
   "cell_type": "code",
   "execution_count": null,
   "id": "median-complexity",
   "metadata": {},
   "outputs": [],
   "source": []
  }
 ],
 "metadata": {
  "kernelspec": {
   "display_name": "Python 3",
   "language": "python",
   "name": "python3"
  },
  "language_info": {
   "codemirror_mode": {
    "name": "ipython",
    "version": 3
   },
   "file_extension": ".py",
   "mimetype": "text/x-python",
   "name": "python",
   "nbconvert_exporter": "python",
   "pygments_lexer": "ipython3",
   "version": "3.6.12"
  }
 },
 "nbformat": 4,
 "nbformat_minor": 5
}
